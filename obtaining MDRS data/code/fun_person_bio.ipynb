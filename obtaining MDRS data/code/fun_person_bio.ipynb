{
 "cells": [
  {
   "cell_type": "code",
   "execution_count": 6,
   "metadata": {},
   "outputs": [],
   "source": [
    "#function to get person and bio from the crew page.Takes url as argument, returns lists: bio, person, crew, link. \n"
   ]
  },
  {
   "cell_type": "code",
   "execution_count": null,
   "metadata": {},
   "outputs": [],
   "source": [
    "from bs4 import BeautifulSoup as bs\n",
    "import requests\n",
    "import urllib.request\n",
    "import csv\n",
    "import urllib.request"
   ]
  },
  {
   "cell_type": "code",
   "execution_count": null,
   "metadata": {},
   "outputs": [],
   "source": [
    "def get_person_bio(link):\n",
    "    bio = [] \n",
    "    person = []\n",
    "    crew = []\n",
    "    links = []\n",
    "    url  =  urllib.request.urlopen (link)\n",
    "    soup = bs(url, 'lxml') \n",
    "    entry = soup.find(attrs={'class' : 'entry-content'})\n",
    "    for i in range (len(entry.find_all(\"strong\"))): \n",
    "        bio_temp=[] #keep bio list empty for each individual\n",
    "        if entry.find_all(\"strong\")[i].find(\"img\"): #this finds a chunk of text for each individual\n",
    "\n",
    "            img_caption = soup.article.find_all(\"strong\")[i].find(\"img\")\n",
    "            person.append(entry.find_all(\"strong\")[i].get_text())\n",
    "            \n",
    "            c_temp = list(link.rsplit('/',2)[-1])[-3:] #get crew number for each person \n",
    "            c = ''.join(c_temp) #join char as a string\n",
    "            crew.append(c)\n",
    "            links.append(link)\n",
    "            #print (c)\n",
    "            \n",
    "            for j in range (len(img_caption.find_all_next(\"p\"))):\n",
    "                if img_caption.find_all_next(\"p\")[j].find(\"img\"): #break when get to a para with image. \n",
    "                    break\n",
    "                else:\n",
    "                    bio_temp.append(img_caption.find_all_next(\"p\")[j].get_text()) #append para to empty list of bio1\n",
    "        if len(bio_temp)>0:\n",
    "            bio.append(bio_temp) #collect all bios in one list;\n",
    "            \n",
    "    return crew, person, bio, links       \n",
    "        \n",
    "    "
   ]
  },
  {
   "cell_type": "code",
   "execution_count": null,
   "metadata": {},
   "outputs": [],
   "source": []
  },
  {
   "cell_type": "code",
   "execution_count": null,
   "metadata": {},
   "outputs": [],
   "source": []
  }
 ],
 "metadata": {
  "kernelspec": {
   "display_name": "Python 3",
   "language": "python",
   "name": "python3"
  },
  "language_info": {
   "codemirror_mode": {
    "name": "ipython",
    "version": 3
   },
   "file_extension": ".py",
   "mimetype": "text/x-python",
   "name": "python",
   "nbconvert_exporter": "python",
   "pygments_lexer": "ipython3",
   "version": "3.6.5"
  }
 },
 "nbformat": 4,
 "nbformat_minor": 2
}