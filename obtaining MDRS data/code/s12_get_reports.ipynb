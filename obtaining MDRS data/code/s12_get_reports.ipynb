{
 "cells": [
  {
   "cell_type": "code",
   "execution_count": null,
   "metadata": {},
   "outputs": [],
   "source": [
    "# get all season 12 reports. landing page https://sites.google.com/a/marssociety.org/mdrs2012/crew-reports\n",
    "#output s12_reports.csv in the same directory.\n",
    "\n",
    "from bs4 import BeautifulSoup as bs\n",
    "import requests\n",
    "import urllib.request\n",
    "import csv\n",
    "import pandas as pd\n",
    "import re"
   ]
  },
  {
   "cell_type": "code",
   "execution_count": null,
   "metadata": {},
   "outputs": [],
   "source": [
    "# get links to individual reports from the landing page.\n",
    "url = urllib.request.urlopen('https://sites.google.com/a/marssociety.org/mdrs2012/crew-reports').read()\n",
    "soup = bs(url, 'lxml')\n"
   ]
  },
  {
   "cell_type": "code",
   "execution_count": null,
   "metadata": {},
   "outputs": [],
   "source": [
    "soup"
   ]
  },
  {
   "cell_type": "code",
   "execution_count": null,
   "metadata": {},
   "outputs": [],
   "source": [
    "# to separate just reports, will need to check whether their text heading has 'report' in it. \n",
    "\n",
    "links = []\n",
    "\n",
    "for x in soup.find_all('tbody'):\n",
    "    for y in x.find_all('a'):\n",
    "        if 'archives' in str(y['href']): #get the crew reports + descriptions \n",
    "            links.append(y['href'])    \n",
    "            \n",
    "links = list(set(links)) #remove duplicates   \n",
    "print(links)"
   ]
  },
  {
   "cell_type": "code",
   "execution_count": null,
   "metadata": {},
   "outputs": [],
   "source": [
    "# process single link\n",
    "link = 'https://sites.google.com/a/marssociety.org/mdrs2012/archives/crew-127/325-commandersreport'\n",
    "\n",
    "url1 = urllib.request.urlopen(link).read()\n",
    "link_soup = bs(url1, 'lxml')\n"
   ]
  },
  {
   "cell_type": "code",
   "execution_count": null,
   "metadata": {},
   "outputs": [],
   "source": [
    "#link_soup.h3.get_text().lower() #title in lower letters only \n",
    "\n",
    "#link.rsplit('/',2)[-2] #crew number\n",
    "\n",
    "#link.rsplit('/',1)[-1].split('-')[0] #get date\n",
    "\n"
   ]
  },
  {
   "cell_type": "code",
   "execution_count": null,
   "metadata": {},
   "outputs": [],
   "source": [
    "link_soup"
   ]
  },
  {
   "cell_type": "code",
   "execution_count": null,
   "metadata": {},
   "outputs": [],
   "source": [
    " txt =  link_soup.find_all(\"div\", {\"class\": \"sites-canvas-main\"}) # get html \n",
    "for x in txt:\n",
    "    print(x.get_text()) # get text \n",
    "    print('---')"
   ]
  },
  {
   "cell_type": "code",
   "execution_count": null,
   "metadata": {},
   "outputs": [],
   "source": [
    "# process all links. Need to check whether report is in the title. Not capturing crew125 4-22greenhab  \n",
    "\n",
    "crew = []\n",
    "date = []\n",
    "title =[]\n",
    "text = []\n",
    "html = [] \n",
    "url_links = []\n",
    "\n",
    "\n",
    "for l in links:\n",
    "    \n",
    "    url1 = urllib.request.urlopen(l).read()\n",
    "    link_soup = bs(url1, 'lxml')\n",
    "    if 'report'  in link_soup.h3.get_text().lower():\n",
    "        url_links.append(l)\n",
    "        title.append(link_soup.h3.get_text().lower())\n",
    "        crew.append(l.rsplit('/',2)[-2])\n",
    "        date.append(l.rsplit('/',1)[-1].split('-')[0])\n",
    "        html.append(link_soup.find(\"div\", {\"class\": \"sites-canvas-main\"}))\n",
    "        text.append(link_soup.find(\"div\", {\"class\": \"sites-canvas-main\"}).get_text())\n",
    "        \n",
    "\n"
   ]
  },
  {
   "cell_type": "code",
   "execution_count": null,
   "metadata": {},
   "outputs": [],
   "source": [
    "df = pd.DataFrame({'crew': crew, 'date': date, 'header': title, 'body':text, 'html': html, 'link': url_links})\n",
    "\n",
    "#fix crew-xx into xx\n",
    "for i in range(len(df)):\n",
    "    df['crew'].iloc[i] = df['crew'].iloc[i].split(\"crew-\")[1]\n",
    "    print(i, df['crew'].iloc[i])\n",
    "\n",
    "\n",
    "df.to_csv(r's12_reports.csv')"
   ]
  },
  {
   "cell_type": "code",
   "execution_count": null,
   "metadata": {},
   "outputs": [],
   "source": []
  }
 ],
 "metadata": {
  "kernelspec": {
   "display_name": "Python 3",
   "language": "python",
   "name": "python3"
  },
  "language_info": {
   "codemirror_mode": {
    "name": "ipython",
    "version": 3
   },
   "file_extension": ".py",
   "mimetype": "text/x-python",
   "name": "python",
   "nbconvert_exporter": "python",
   "pygments_lexer": "ipython3",
   "version": "3.6.5"
  }
 },
 "nbformat": 4,
 "nbformat_minor": 2
}