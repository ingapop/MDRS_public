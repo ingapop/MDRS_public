{
 "metadata": {
  "language_info": {
   "codemirror_mode": {
    "name": "ipython",
    "version": 3
   },
   "file_extension": ".py",
   "mimetype": "text/x-python",
   "name": "python",
   "nbconvert_exporter": "python",
   "pygments_lexer": "ipython3",
   "version": "3.6.5-final"
  },
  "orig_nbformat": 2,
  "kernelspec": {
   "name": "python3",
   "display_name": "Python 3",
   "language": "python"
  }
 },
 "nbformat": 4,
 "nbformat_minor": 2,
 "cells": [
  {
   "cell_type": "code",
   "execution_count": null,
   "metadata": {},
   "outputs": [],
   "source": [
    "#this code adds crew number to the .csv file. \n",
    "#use dates to assign crew number to rows falling between those dates. \n",
    "\n",
    "#algorythm:\n",
    "# import crew_date.csv; keep only season 17-19 \n",
    "#import s17-19 reports\n",
    "# convert date columns  into comparable dates \n",
    "#check if report is published between these dates (inclusive of both ends), if yes --> assign crew number accordingly \n",
    "\n",
    "\n",
    "\n",
    "\n"
   ]
  },
  {
   "cell_type": "code",
   "execution_count": 2,
   "metadata": {},
   "outputs": [],
   "source": [
    "import pandas as pd\n",
    "import numpy as np"
   ]
  },
  {
   "cell_type": "code",
   "execution_count": 3,
   "metadata": {},
   "outputs": [],
   "source": [
    "#import s17-19 reports and crew-dates file \n",
    "rep = pd.read_csv('s17-19_nocrew.csv')\n",
    "crew_dates = pd.read_csv('crew_dates.csv')\n",
    "\n",
    "\n"
   ]
  },
  {
   "cell_type": "code",
   "execution_count": 4,
   "metadata": {},
   "outputs": [],
   "source": [
    "reports = rep.drop(columns = [\"Unnamed: 0\"])\n",
    "crew_dates_1719 = crew_dates.query('season ==17 or season == 18 or season == 19')"
   ]
  },
  {
   "cell_type": "code",
   "execution_count": 6,
   "metadata": {},
   "outputs": [
    {
     "output_type": "execute_result",
     "data": {
      "text/plain": [
       "2557"
      ]
     },
     "metadata": {},
     "execution_count": 6
    }
   ],
   "source": [
    "len(reports)"
   ]
  },
  {
   "cell_type": "code",
   "execution_count": null,
   "metadata": {},
   "outputs": [],
   "source": [
    "reports.iloc[0]"
   ]
  },
  {
   "cell_type": "code",
   "execution_count": null,
   "metadata": {},
   "outputs": [],
   "source": [
    "#testing code with smaller df. Selecting random 100 rows. \n",
    "t_reports = reports.sample(n = 100)\n",
    "\n",
    "\n",
    "\n",
    "\n",
    "\n",
    "\n",
    "\n",
    "\n",
    "\n"
   ]
  },
  {
   "cell_type": "code",
   "execution_count": null,
   "metadata": {},
   "outputs": [],
   "source": [
    "#convert date colums into date objects\n",
    "\n",
    "crew_dates['started'] = pd.to_datetime(crew_dates.started)\n",
    "crew_dates['ended'] = pd.to_datetime(crew_dates.ended)\n",
    "reports['date'] =pd.to_datetime(reports.date)\n",
    "\n"
   ]
  },
  {
   "cell_type": "code",
   "execution_count": null,
   "metadata": {},
   "outputs": [],
   "source": [
    "reports.date"
   ]
  },
  {
   "cell_type": "code",
   "execution_count": null,
   "metadata": {},
   "outputs": [],
   "source": [
    "len(crew_dates_1719), len(crew_dates)"
   ]
  },
  {
   "cell_type": "code",
   "execution_count": null,
   "metadata": {},
   "outputs": [],
   "source": [
    "t_reports['crew'] = []"
   ]
  },
  {
   "cell_type": "code",
   "execution_count": null,
   "metadata": {},
   "outputs": [],
   "source": [
    "crews = []\n",
    "\n",
    "\n",
    "for index, row in t_reports.iterrows():\n",
    "    for index, crow in crew_dates_1719.iterrows():\n",
    "        if row['date'] > crow['started'] and row['date'] < crow['ended']:\n",
    "            print(row['date'], crow['crew'])\n",
    "            crews.append(crow['crew'])\n",
    "print (crews)\n",
    "\n",
    "\n",
    "t_reports['crews'] = crews\n"
   ]
  },
  {
   "cell_type": "code",
   "execution_count": null,
   "metadata": {},
   "outputs": [],
   "source": [
    "t_reports['crews'] = crews"
   ]
  },
  {
   "cell_type": "code",
   "execution_count": null,
   "metadata": {},
   "outputs": [],
   "source": [
    "print(t_reports['crews'], t_reports['date'])"
   ]
  },
  {
   "cell_type": "code",
   "execution_count": null,
   "metadata": {},
   "outputs": [],
   "source": [
    "#try with full reports df \n"
   ]
  },
  {
   "cell_type": "code",
   "execution_count": null,
   "metadata": {},
   "outputs": [],
   "source": [
    "print(reports.date)"
   ]
  },
  {
   "cell_type": "code",
   "execution_count": null,
   "metadata": {},
   "outputs": [],
   "source": [
    "crew_number = []\n",
    "found = False \n",
    "\n",
    "\n",
    "for index, row in reports.iterrows():\n",
    "    print (index)\n",
    "    for index, crow in crew_dates_1719.iterrows():\n",
    "        if row['date'] > crow['started'] and row['date'] < crow['ended']:\n",
    "            found = True\n",
    "            n = crow['crew']\n",
    "            break\n",
    "    if found:    \n",
    "        crew_number.append(n)\n",
    "    else:\n",
    "        crew_number.append('None')\n",
    "           \n",
    "\n",
    "reports['crew'] = crew_number\n",
    "\n",
    "\n",
    "\n"
   ]
  },
  {
   "cell_type": "code",
   "execution_count": 1,
   "metadata": {},
   "outputs": [
    {
     "output_type": "error",
     "ename": "NameError",
     "evalue": "name 'crew_number' is not defined",
     "traceback": [
      "\u001b[0;31m---------------------------------------------------------------------------\u001b[0m",
      "\u001b[0;31mNameError\u001b[0m                                 Traceback (most recent call last)",
      "\u001b[0;32m<ipython-input-1-a8957dba3093>\u001b[0m in \u001b[0;36m<module>\u001b[0;34m\u001b[0m\n\u001b[1;32m      4\u001b[0m \u001b[0;34m\u001b[0m\u001b[0m\n\u001b[1;32m      5\u001b[0m \u001b[0;34m\u001b[0m\u001b[0m\n\u001b[0;32m----> 6\u001b[0;31m \u001b[0mlen\u001b[0m\u001b[0;34m(\u001b[0m\u001b[0mcrew_number\u001b[0m\u001b[0;34m)\u001b[0m\u001b[0;34m,\u001b[0m \u001b[0mlen\u001b[0m\u001b[0;34m(\u001b[0m\u001b[0mreports\u001b[0m\u001b[0;34m)\u001b[0m\u001b[0;34m,\u001b[0m \u001b[0mlen\u001b[0m\u001b[0;34m(\u001b[0m\u001b[0mcrew_dates_1719\u001b[0m\u001b[0;34m)\u001b[0m\u001b[0;34m\u001b[0m\u001b[0m\n\u001b[0m",
      "\u001b[0;31mNameError\u001b[0m: name 'crew_number' is not defined"
     ]
    }
   ],
   "source": [
    "#problem: some reports are out of bounds even for these. 74 reports are not between these dates. \n",
    "\n",
    "\n",
    "\n",
    "\n",
    "len(crew_number), len(reports), len(crew_dates_1719)"
   ]
  },
  {
   "cell_type": "code",
   "execution_count": null,
   "metadata": {},
   "outputs": [],
   "source": [
    "reports.crew[45:99]"
   ]
  },
  {
   "cell_type": "code",
   "execution_count": null,
   "metadata": {},
   "outputs": [],
   "source": [
    "#write to csv\n",
    "reports.to_csv('s17-19_reports.csv')\n",
    "\n"
   ]
  },
  {
   "cell_type": "code",
   "execution_count": null,
   "metadata": {},
   "outputs": [],
   "source": []
  }
 ]
}