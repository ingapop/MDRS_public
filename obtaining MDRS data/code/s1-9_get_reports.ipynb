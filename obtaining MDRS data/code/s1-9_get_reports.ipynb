{
 "metadata": {
  "language_info": {
   "codemirror_mode": {
    "name": "ipython",
    "version": 3
   },
   "file_extension": ".py",
   "mimetype": "text/x-python",
   "name": "python",
   "nbconvert_exporter": "python",
   "pygments_lexer": "ipython3",
   "version": "3.6.5-final"
  },
  "orig_nbformat": 2,
  "kernelspec": {
   "name": "python3",
   "display_name": "Python 3"
  }
 },
 "nbformat": 4,
 "nbformat_minor": 2,
 "cells": [
  {
   "cell_type": "code",
   "execution_count": null,
   "metadata": {},
   "outputs": [],
   "source": [
    "\n",
    "from bs4 import BeautifulSoup as bs\n",
    "from bs4 import Comment\n",
    "import pandas as pd\n",
    "import csv\n",
    "import os\n",
    "import shutil\n",
    "import glob\n",
    "from pathlib import Path\n"
   ]
  },
  {
   "cell_type": "code",
   "execution_count": null,
   "metadata": {},
   "outputs": [],
   "source": [
    "directory = '/home/inga/Documents/mdrs_data_raw/s1-9/MDRS_CrewReports_FS01-FS09'"
   ]
  },
  {
   "cell_type": "code",
   "execution_count": null,
   "metadata": {},
   "outputs": [],
   "source": [
    "def get_text(doc_path):\n",
    "    if '.txt' in str(doc_path):\n",
    "        with open (doc_path, 'rb') as file:\n",
    "            text = file.read()\n",
    "        return text\n",
    "            \n",
    "    elif '.asp' in str(doc_path) or '.html' in str(doc_path):\n",
    "        with open (doc_path, 'rb') as file:\n",
    "            soup = bs(file, 'lxml')\n",
    "            \n",
    "        if soup.find(\"div\", {\"id\": \"content\"}):\n",
    "            content = soup.find(\"div\", {\"id\" : \"content\"})\n",
    "            text = content.get_text()\n",
    "            return text   \n",
    "        else:\n",
    "            html = []\n",
    "            for comment in soup.find_all(string=lambda text:isinstance(text, Comment)):\n",
    "                if comment.strip() == 'Begin Content':\n",
    "                    next_node = comment.next_sibling\n",
    "                    while next_node and next_node.next_sibling:\n",
    "                        html.append(next_node)\n",
    "                        next_node = next_node.next_sibling\n",
    "                        if not next_node.name and next_node.strip() == 'End Content': break;\n",
    "        \n",
    "\n",
    "            soup1 = bs(str(html), 'lxml')\n",
    "            text = soup1.get_text()\n",
    "            return text"
   ]
  },
  {
   "cell_type": "code",
   "execution_count": null,
   "metadata": {},
   "outputs": [],
   "source": [
    "results = []    \n",
    "season = []\n",
    "date = []\n",
    "name = []\n",
    "body = []\n",
    "for path in Path(directory).rglob('*.*'):\n",
    "    if '.txt' in str(path) or '.asp' in str(path) or '.html' in str(path):\n",
    "        season.append(str(path).split('/')[-3])\n",
    "        date.append(str(path).split('/')[-2])\n",
    "        name.append(str(path).split('/')[-1].split('.')[0])\n",
    "        body.append(get_text(path))"
   ]
  },
  {
   "cell_type": "code",
   "execution_count": null,
   "metadata": {},
   "outputs": [],
   "source": [
    "reports = pd.DataFrame({'season': season, 'date': date, 'header': name, 'body': body })\n",
    "reports.to_csv(r's1-9.csv')"
   ]
  },
  {
   "cell_type": "code",
   "execution_count": null,
   "metadata": {},
   "outputs": [],
   "source": []
  }
 ]
}